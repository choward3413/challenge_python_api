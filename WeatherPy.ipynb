{
 "cells": [
  {
   "cell_type": "markdown",
   "metadata": {},
   "source": [
    "# WeatherPy\n",
    "----\n",
    "\n",
    "#### Note\n",
    "* Instructions have been included for each segment. You do not have to follow them exactly, but they are included to help you think through the steps."
   ]
  },
  {
   "cell_type": "code",
   "execution_count": 2,
   "metadata": {
    "scrolled": true
   },
   "outputs": [],
   "source": [
    "# Dependencies and Setup\n",
    "import matplotlib.pyplot as plt\n",
    "import pandas as pd\n",
    "import numpy as np\n",
    "import requests\n",
    "import time\n",
    "from scipy.stats import linregress\n",
    "\n",
    "# Import API key\n",
    "from api_keys import weather_api_key\n",
    "\n",
    "\n",
    "# Incorporated citipy to determine city based on latitude and longitude\n",
    "from citipy import citipy\n",
    "\n",
    "# Output File (CSV)\n",
    "output_data_file = \"output_data/cities.csv\"\n",
    "\n",
    "# Range of latitudes and longitudes\n",
    "lat_range = (-90, 90)\n",
    "lng_range = (-180, 180)"
   ]
  },
  {
   "cell_type": "markdown",
   "metadata": {},
   "source": [
    "## Generate Cities List"
   ]
  },
  {
   "cell_type": "code",
   "execution_count": 3,
   "metadata": {},
   "outputs": [
    {
     "data": {
      "text/plain": [
       "584"
      ]
     },
     "execution_count": 3,
     "metadata": {},
     "output_type": "execute_result"
    }
   ],
   "source": [
    "# List for holding lat_lngs and cities\n",
    "lat_lngs = []\n",
    "cities = []\n",
    "\n",
    "# Create a set of random lat and lng combinations\n",
    "lats = np.random.uniform(lat_range[0], lat_range[1], size=1500)\n",
    "lngs = np.random.uniform(lng_range[0], lng_range[1], size=1500)\n",
    "lat_lngs = zip(lats, lngs)\n",
    "\n",
    "# Identify nearest city for each lat, lng combination\n",
    "for lat_lng in lat_lngs:\n",
    "    city = citipy.nearest_city(lat_lng[0], lat_lng[1]).city_name\n",
    "    \n",
    "    # If the city is unique, then add it to a our cities list\n",
    "    if city not in cities:\n",
    "        cities.append(city)\n",
    "\n",
    "# Print the city count to confirm sufficient count\n",
    "len(cities)"
   ]
  },
  {
   "cell_type": "code",
   "execution_count": null,
   "metadata": {},
   "outputs": [],
   "source": []
  },
  {
   "cell_type": "markdown",
   "metadata": {},
   "source": [
    "### Perform API Calls\n",
    "* Perform a weather check on each city using a series of successive API calls.\n",
    "* Include a print log of each city as it'sbeing processed (with the city number and city name).\n"
   ]
  },
  {
   "cell_type": "code",
   "execution_count": 4,
   "metadata": {},
   "outputs": [
    {
     "name": "stdout",
     "output_type": "stream",
     "text": [
      "http://api.openweathermap.org/data/2.5/weather?appid=6e4e6520729a06888e3f236ac2203385&units=imperial&q=\n"
     ]
    }
   ],
   "source": [
    "url = \"http://api.openweathermap.org/data/2.5/weather?\"\n",
    "units = \"imperial\"\n",
    "\n",
    "# Build partial query URL\n",
    "query_url = f\"{url}appid={weather_api_key}&units={units}&q=\"\n",
    "print(query_url)"
   ]
  },
  {
   "cell_type": "code",
   "execution_count": 5,
   "metadata": {},
   "outputs": [
    {
     "name": "stdout",
     "output_type": "stream",
     "text": [
      " Beginning Data Retrieval      \n",
      "*******************************\n",
      "processing city  #1 in group #1 | sofiysk\n",
      "City not found: sofiysk\n",
      "processing city  #2 in group #1 | morro bay\n",
      "processing city  #3 in group #1 | tasiilaq\n",
      "processing city  #4 in group #1 | manadhoo\n",
      "processing city  #5 in group #1 | jamestown\n",
      "processing city  #6 in group #1 | rikitea\n",
      "processing city  #7 in group #1 | cape town\n",
      "processing city  #8 in group #1 | albany\n",
      "processing city  #9 in group #1 | mount pleasant\n",
      "processing city  #10 in group #1 | ushuaia\n",
      "processing city  #11 in group #1 | puerto ayora\n",
      "processing city  #12 in group #1 | ilulissat\n",
      "processing city  #13 in group #1 | fairbanks\n",
      "processing city  #14 in group #1 | opuwo\n",
      "processing city  #15 in group #1 | carnarvon\n",
      "processing city  #16 in group #1 | cerro de pasco\n",
      "processing city  #17 in group #1 | gravdal\n",
      "processing city  #18 in group #1 | nikolskoye\n",
      "processing city  #19 in group #1 | lagoa\n",
      "processing city  #20 in group #1 | souillac\n",
      "processing city  #21 in group #1 | ahipara\n",
      "processing city  #22 in group #1 | amderma\n",
      "City not found: amderma\n",
      "processing city  #23 in group #1 | new norfolk\n",
      "processing city  #24 in group #1 | atuona\n",
      "processing city  #25 in group #1 | mahebourg\n",
      "processing city  #26 in group #1 | faanui\n",
      "processing city  #27 in group #1 | karaman\n",
      "processing city  #28 in group #1 | taolanaro\n",
      "City not found: taolanaro\n",
      "processing city  #29 in group #1 | hobart\n",
      "processing city  #30 in group #1 | busselton\n",
      "processing city  #31 in group #1 | cairns\n",
      "processing city  #32 in group #1 | arraial do cabo\n",
      "processing city  #33 in group #1 | mataura\n",
      "processing city  #34 in group #1 | formosa do rio preto\n",
      "processing city  #35 in group #1 | butaritari\n",
      "processing city  #36 in group #1 | torbay\n",
      "processing city  #37 in group #1 | samusu\n",
      "City not found: samusu\n",
      "processing city  #38 in group #1 | saint anthony\n",
      "processing city  #39 in group #1 | kaitangata\n",
      "processing city  #40 in group #1 | yanliang\n",
      "processing city  #41 in group #1 | hermanus\n",
      "processing city  #42 in group #1 | caravelas\n",
      "processing city  #43 in group #1 | narsaq\n",
      "processing city  #44 in group #1 | punta arenas\n",
      "processing city  #45 in group #1 | saskylakh\n",
      "processing city  #46 in group #1 | jegunovce\n",
      "processing city  #47 in group #1 | tsihombe\n",
      "City not found: tsihombe\n",
      "processing city  #48 in group #1 | mount gambier\n",
      "processing city  #49 in group #1 | georgetown\n",
      "processing city  #50 in group #1 | tuktoyaktuk\n",
      "processing city  #1 in group #2 | bethel\n",
      "processing city  #2 in group #2 | ilinskiy\n",
      "processing city  #3 in group #2 | barentsburg\n",
      "City not found: barentsburg\n",
      "processing city  #4 in group #2 | puerto maldonado\n",
      "processing city  #5 in group #2 | yulara\n",
      "processing city  #6 in group #2 | port alfred\n",
      "processing city  #7 in group #2 | vila franca do campo\n",
      "processing city  #8 in group #2 | umzimvubu\n",
      "City not found: umzimvubu\n",
      "processing city  #9 in group #2 | cidreira\n",
      "processing city  #10 in group #2 | libertador general san martin\n",
      "processing city  #11 in group #2 | flin flon\n",
      "processing city  #12 in group #2 | rawannawi\n",
      "City not found: rawannawi\n",
      "processing city  #13 in group #2 | adwa\n",
      "processing city  #14 in group #2 | coquimbo\n",
      "processing city  #15 in group #2 | hithadhoo\n",
      "processing city  #16 in group #2 | bredasdorp\n",
      "processing city  #17 in group #2 | axim\n",
      "processing city  #18 in group #2 | pombia\n",
      "processing city  #19 in group #2 | nanortalik\n",
      "processing city  #20 in group #2 | teya\n",
      "processing city  #21 in group #2 | longyearbyen\n",
      "processing city  #22 in group #2 | fukue\n",
      "processing city  #23 in group #2 | castro\n",
      "processing city  #24 in group #2 | bafoulabe\n",
      "processing city  #25 in group #2 | teacapan\n",
      "processing city  #26 in group #2 | bluff\n",
      "processing city  #27 in group #2 | saint-philippe\n",
      "processing city  #28 in group #2 | nome\n",
      "processing city  #29 in group #2 | marcona\n",
      "City not found: marcona\n",
      "processing city  #30 in group #2 | hilo\n",
      "processing city  #31 in group #2 | panama city\n",
      "processing city  #32 in group #2 | constitucion\n",
      "processing city  #33 in group #2 | hofn\n",
      "processing city  #34 in group #2 | lebu\n",
      "processing city  #35 in group #2 | korla\n",
      "processing city  #36 in group #2 | praia\n",
      "processing city  #37 in group #2 | katangli\n",
      "processing city  #38 in group #2 | chuy\n",
      "processing city  #39 in group #2 | kruisfontein\n",
      "processing city  #40 in group #2 | salinopolis\n",
      "processing city  #41 in group #2 | havoysund\n",
      "processing city  #42 in group #2 | bolungarvik\n",
      "City not found: bolungarvik\n",
      "processing city  #43 in group #2 | batagay-alyta\n",
      "processing city  #44 in group #2 | luderitz\n",
      "processing city  #45 in group #2 | fort nelson\n",
      "processing city  #46 in group #2 | east london\n",
      "processing city  #47 in group #2 | bambous virieux\n",
      "processing city  #48 in group #2 | fortuna\n",
      "processing city  #49 in group #2 | khatanga\n",
      "processing city  #50 in group #2 | comodoro rivadavia\n",
      "processing city  #1 in group #3 | shebunino\n",
      "processing city  #2 in group #3 | zelenoborskiy\n",
      "processing city  #3 in group #3 | petropavlovka\n",
      "processing city  #4 in group #3 | klaksvik\n",
      "processing city  #5 in group #3 | kodiak\n",
      "processing city  #6 in group #3 | worpswede\n",
      "processing city  #7 in group #3 | port elizabeth\n",
      "processing city  #8 in group #3 | yellowknife\n",
      "processing city  #9 in group #3 | canmore\n",
      "processing city  #10 in group #3 | belushya guba\n",
      "City not found: belushya guba\n",
      "processing city  #11 in group #3 | kapaa\n",
      "processing city  #12 in group #3 | inta\n",
      "processing city  #13 in group #3 | lavrentiya\n",
      "processing city  #14 in group #3 | iqaluit\n",
      "processing city  #15 in group #3 | berlevag\n",
      "processing city  #16 in group #3 | chase\n",
      "processing city  #17 in group #3 | smithers\n",
      "processing city  #18 in group #3 | santa rosa\n",
      "processing city  #19 in group #3 | wangaratta\n",
      "processing city  #20 in group #3 | sao filipe\n",
      "processing city  #21 in group #3 | avarua\n",
      "processing city  #22 in group #3 | flinders\n",
      "processing city  #23 in group #3 | airai\n",
      "processing city  #24 in group #3 | college\n",
      "processing city  #25 in group #3 | havre\n",
      "processing city  #26 in group #3 | hobyo\n",
      "processing city  #27 in group #3 | vaini\n",
      "processing city  #28 in group #3 | severo-kurilsk\n",
      "processing city  #29 in group #3 | mackay\n",
      "processing city  #30 in group #3 | pisco\n",
      "processing city  #31 in group #3 | galle\n",
      "processing city  #32 in group #3 | esperance\n",
      "processing city  #33 in group #3 | cherskiy\n",
      "processing city  #34 in group #3 | buenos aires\n",
      "processing city  #35 in group #3 | saleaula\n",
      "City not found: saleaula\n",
      "processing city  #36 in group #3 | attawapiskat\n",
      "City not found: attawapiskat\n",
      "processing city  #37 in group #3 | port-gentil\n",
      "processing city  #38 in group #3 | kabanjahe\n",
      "processing city  #39 in group #3 | sinnamary\n",
      "processing city  #40 in group #3 | valdivia\n",
      "processing city  #41 in group #3 | dali\n",
      "processing city  #42 in group #3 | san joaquin\n",
      "processing city  #43 in group #3 | tabiauea\n",
      "City not found: tabiauea\n",
      "processing city  #44 in group #3 | lodja\n",
      "processing city  #45 in group #3 | suzhou\n",
      "processing city  #46 in group #3 | natal\n",
      "processing city  #47 in group #3 | redcar\n",
      "processing city  #48 in group #3 | matagami\n",
      "processing city  #49 in group #3 | peleduy\n",
      "processing city  #50 in group #3 | cape canaveral\n",
      "processing city  #1 in group #4 | nuuk\n",
      "processing city  #2 in group #4 | tilichiki\n",
      "processing city  #3 in group #4 | blyth\n",
      "processing city  #4 in group #4 | mount isa\n",
      "processing city  #5 in group #4 | pevek\n",
      "processing city  #6 in group #4 | sorvag\n",
      "City not found: sorvag\n",
      "processing city  #7 in group #4 | stornoway\n",
      "processing city  #8 in group #4 | charters towers\n",
      "processing city  #9 in group #4 | marawi\n",
      "processing city  #10 in group #4 | bubaque\n",
      "processing city  #11 in group #4 | alamogordo\n",
      "processing city  #12 in group #4 | vaitupu\n",
      "City not found: vaitupu\n",
      "processing city  #13 in group #4 | saldanha\n",
      "processing city  #14 in group #4 | tucuma\n",
      "processing city  #15 in group #4 | maceio\n",
      "processing city  #16 in group #4 | plavinas\n",
      "processing city  #17 in group #4 | la paz\n",
      "processing city  #18 in group #4 | castanheira de pera\n",
      "processing city  #19 in group #4 | hays\n",
      "processing city  #20 in group #4 | mys shmidta\n",
      "City not found: mys shmidta\n",
      "processing city  #21 in group #4 | shache\n",
      "processing city  #22 in group #4 | sala\n",
      "processing city  #23 in group #4 | deputatskiy\n",
      "processing city  #24 in group #4 | upernavik\n"
     ]
    },
    {
     "name": "stdout",
     "output_type": "stream",
     "text": [
      "processing city  #25 in group #4 | kavieng\n",
      "processing city  #26 in group #4 | edd\n",
      "processing city  #27 in group #4 | westport\n",
      "processing city  #28 in group #4 | bafq\n",
      "processing city  #29 in group #4 | lompoc\n",
      "processing city  #30 in group #4 | hami\n",
      "processing city  #31 in group #4 | mago\n",
      "processing city  #32 in group #4 | maple creek\n",
      "processing city  #33 in group #4 | alice springs\n",
      "processing city  #34 in group #4 | port hardy\n",
      "processing city  #35 in group #4 | imuris\n",
      "processing city  #36 in group #4 | pacifica\n",
      "processing city  #37 in group #4 | north bend\n",
      "processing city  #38 in group #4 | akureyri\n",
      "processing city  #39 in group #4 | ejido\n",
      "processing city  #40 in group #4 | grand river south east\n",
      "City not found: grand river south east\n",
      "processing city  #41 in group #4 | qaanaaq\n",
      "processing city  #42 in group #4 | sagauli\n",
      "processing city  #43 in group #4 | saint george\n",
      "processing city  #44 in group #4 | zhanaozen\n",
      "processing city  #45 in group #4 | san rafael\n",
      "processing city  #46 in group #4 | catuday\n",
      "processing city  #47 in group #4 | yanam\n",
      "processing city  #48 in group #4 | san angelo\n",
      "processing city  #49 in group #4 | ayan\n",
      "processing city  #50 in group #4 | bathsheba\n",
      "processing city  #1 in group #5 | manzanillo\n",
      "processing city  #2 in group #5 | selikhino\n",
      "processing city  #3 in group #5 | taltal\n",
      "processing city  #4 in group #5 | kahului\n",
      "processing city  #5 in group #5 | durban\n",
      "processing city  #6 in group #5 | ponta do sol\n",
      "processing city  #7 in group #5 | buchanan\n",
      "processing city  #8 in group #5 | cervo\n",
      "processing city  #9 in group #5 | naze\n",
      "processing city  #10 in group #5 | mar del plata\n",
      "processing city  #11 in group #5 | partenit\n",
      "processing city  #12 in group #5 | geraldton\n",
      "processing city  #13 in group #5 | dandong\n",
      "processing city  #14 in group #5 | saint-augustin\n",
      "processing city  #15 in group #5 | acapulco\n",
      "processing city  #16 in group #5 | damghan\n",
      "processing city  #17 in group #5 | yerofey pavlovich\n",
      "processing city  #18 in group #5 | sirumugai\n",
      "processing city  #19 in group #5 | ribeira grande\n",
      "processing city  #20 in group #5 | mabaruma\n",
      "processing city  #21 in group #5 | tarudant\n",
      "City not found: tarudant\n",
      "processing city  #22 in group #5 | ugoofaaru\n",
      "processing city  #23 in group #5 | hasaki\n",
      "processing city  #24 in group #5 | tarakan\n",
      "processing city  #25 in group #5 | yinchuan\n",
      "processing city  #26 in group #5 | marand\n",
      "processing city  #27 in group #5 | krapivinskiy\n",
      "processing city  #28 in group #5 | itaituba\n",
      "processing city  #29 in group #5 | turukhansk\n",
      "processing city  #30 in group #5 | nago\n",
      "processing city  #31 in group #5 | ishoj\n",
      "processing city  #32 in group #5 | tsiroanomandidy\n",
      "processing city  #33 in group #5 | nampula\n",
      "processing city  #34 in group #5 | george\n",
      "processing city  #35 in group #5 | puerto escondido\n",
      "processing city  #36 in group #5 | villazon\n",
      "processing city  #37 in group #5 | balezino\n",
      "processing city  #38 in group #5 | sorong\n",
      "processing city  #39 in group #5 | joacaba\n",
      "processing city  #40 in group #5 | kasongo\n",
      "processing city  #41 in group #5 | talnakh\n",
      "processing city  #42 in group #5 | ouadda\n",
      "processing city  #43 in group #5 | sibu\n",
      "processing city  #44 in group #5 | patan\n",
      "processing city  #45 in group #5 | semporna\n",
      "processing city  #46 in group #5 | kailua\n",
      "processing city  #47 in group #5 | dikson\n",
      "processing city  #48 in group #5 | tengzhou\n",
      "processing city  #49 in group #5 | roald\n",
      "processing city  #50 in group #5 | pringsewu\n",
      "processing city  #1 in group #6 | yar-sale\n",
      "processing city  #2 in group #6 | half moon bay\n",
      "processing city  #3 in group #6 | lillers\n",
      "processing city  #4 in group #6 | namibe\n",
      "processing city  #5 in group #6 | berdigestyakh\n",
      "processing city  #6 in group #6 | kirakira\n",
      "processing city  #7 in group #6 | barrow\n",
      "processing city  #8 in group #6 | quatre cocos\n",
      "processing city  #9 in group #6 | naantali\n",
      "processing city  #10 in group #6 | sarangani\n",
      "processing city  #11 in group #6 | namatanai\n",
      "processing city  #12 in group #6 | pombas\n",
      "processing city  #13 in group #6 | los llanos de aridane\n",
      "processing city  #14 in group #6 | kuruman\n",
      "processing city  #15 in group #6 | provideniya\n",
      "processing city  #16 in group #6 | asyut\n",
      "processing city  #17 in group #6 | jardim\n",
      "processing city  #18 in group #6 | gigmoto\n",
      "processing city  #19 in group #6 | tabuk\n",
      "processing city  #20 in group #6 | kamenskoye\n",
      "City not found: kamenskoye\n",
      "processing city  #21 in group #6 | hualmay\n",
      "processing city  #22 in group #6 | cilieni\n",
      "processing city  #23 in group #6 | touros\n",
      "processing city  #24 in group #6 | sitka\n",
      "processing city  #25 in group #6 | caala\n",
      "processing city  #26 in group #6 | hoquiam\n",
      "processing city  #27 in group #6 | clyde river\n",
      "processing city  #28 in group #6 | boa vista\n",
      "processing city  #29 in group #6 | yueyang\n",
      "processing city  #30 in group #6 | itarema\n",
      "processing city  #31 in group #6 | chokurdakh\n",
      "processing city  #32 in group #6 | margate\n",
      "processing city  #33 in group #6 | karamay\n",
      "City not found: karamay\n",
      "processing city  #34 in group #6 | villa maria\n",
      "processing city  #35 in group #6 | yuzhno-yeniseyskiy\n",
      "City not found: yuzhno-yeniseyskiy\n",
      "processing city  #36 in group #6 | santa maria\n",
      "processing city  #37 in group #6 | ijaki\n",
      "City not found: ijaki\n",
      "processing city  #38 in group #6 | henties bay\n",
      "processing city  #39 in group #6 | takoradi\n",
      "processing city  #40 in group #6 | bengkulu\n",
      "processing city  #41 in group #6 | lianzhou\n",
      "processing city  #42 in group #6 | kinkala\n",
      "processing city  #43 in group #6 | anar darreh\n",
      "City not found: anar darreh\n",
      "processing city  #44 in group #6 | bilibino\n",
      "processing city  #45 in group #6 | nacala\n",
      "processing city  #46 in group #6 | illoqqortoormiut\n",
      "City not found: illoqqortoormiut\n",
      "processing city  #47 in group #6 | mahaicony\n",
      "City not found: mahaicony\n",
      "processing city  #48 in group #6 | dong xoai\n",
      "processing city  #49 in group #6 | stromness\n",
      "processing city  #50 in group #6 | vostok\n",
      "processing city  #1 in group #7 | avera\n",
      "processing city  #2 in group #7 | buala\n",
      "processing city  #3 in group #7 | devrek\n",
      "processing city  #4 in group #7 | rantepao\n",
      "processing city  #5 in group #7 | alseseca\n",
      "processing city  #6 in group #7 | tuatapere\n",
      "processing city  #7 in group #7 | mahanoro\n",
      "processing city  #8 in group #7 | lantawan\n",
      "processing city  #9 in group #7 | rio gallegos\n",
      "processing city  #10 in group #7 | mananjary\n",
      "processing city  #11 in group #7 | the valley\n",
      "processing city  #12 in group #7 | saint-francois\n",
      "processing city  #13 in group #7 | nizhneyansk\n",
      "City not found: nizhneyansk\n",
      "processing city  #14 in group #7 | redlands\n",
      "processing city  #15 in group #7 | kavaratti\n",
      "processing city  #16 in group #7 | canberra\n",
      "processing city  #17 in group #7 | chicama\n",
      "processing city  #18 in group #7 | padang\n",
      "processing city  #19 in group #7 | keti bandar\n",
      "processing city  #20 in group #7 | baykit\n",
      "processing city  #21 in group #7 | liaqatabad\n",
      "processing city  #22 in group #7 | conceicao do araguaia\n",
      "processing city  #23 in group #7 | boca do acre\n",
      "processing city  #24 in group #7 | ishurdi\n",
      "processing city  #25 in group #7 | livingston\n",
      "processing city  #26 in group #7 | ducheng\n",
      "processing city  #27 in group #7 | kharp\n",
      "processing city  #28 in group #7 | praia da vitoria\n",
      "processing city  #29 in group #7 | thurso\n",
      "processing city  #30 in group #7 | victoria\n",
      "processing city  #31 in group #7 | san patricio\n",
      "processing city  #32 in group #7 | tibacuy\n",
      "processing city  #33 in group #7 | jijiga\n",
      "processing city  #34 in group #7 | teguldet\n",
      "processing city  #35 in group #7 | kalemie\n",
      "processing city  #36 in group #7 | sembe\n",
      "processing city  #37 in group #7 | saint-joseph\n",
      "processing city  #38 in group #7 | mbini\n",
      "processing city  #39 in group #7 | andenes\n",
      "processing city  #40 in group #7 | buqayq\n",
      "City not found: buqayq\n",
      "processing city  #41 in group #7 | san luis\n",
      "processing city  #42 in group #7 | butte\n",
      "processing city  #43 in group #7 | ust-nera\n",
      "processing city  #44 in group #7 | riohacha\n",
      "processing city  #45 in group #7 | cordoba\n",
      "processing city  #46 in group #7 | trapani\n",
      "processing city  #47 in group #7 | beringovskiy\n",
      "processing city  #48 in group #7 | buzuluk\n",
      "processing city  #49 in group #7 | guajara-mirim\n",
      "City not found: guajara-mirim\n",
      "processing city  #50 in group #7 | labuhan\n",
      "processing city  #1 in group #8 | shimoda\n",
      "processing city  #2 in group #8 | balvi\n"
     ]
    },
    {
     "name": "stdout",
     "output_type": "stream",
     "text": [
      "processing city  #3 in group #8 | khasan\n",
      "processing city  #4 in group #8 | springdale\n",
      "processing city  #5 in group #8 | mbutuy\n",
      "processing city  #6 in group #8 | lulea\n",
      "processing city  #7 in group #8 | puri\n",
      "processing city  #8 in group #8 | laguna\n",
      "processing city  #9 in group #8 | grindavik\n",
      "processing city  #10 in group #8 | oistins\n",
      "processing city  #11 in group #8 | sidi ali\n",
      "processing city  #12 in group #8 | amuntai\n",
      "processing city  #13 in group #8 | ngukurr\n",
      "City not found: ngukurr\n",
      "processing city  #14 in group #8 | kandrian\n",
      "processing city  #15 in group #8 | necochea\n",
      "processing city  #16 in group #8 | maralal\n",
      "processing city  #17 in group #8 | coracora\n",
      "processing city  #18 in group #8 | cerrito\n",
      "processing city  #19 in group #8 | ximei\n",
      "processing city  #20 in group #8 | sentyabrskiy\n",
      "City not found: sentyabrskiy\n",
      "processing city  #21 in group #8 | vanavara\n",
      "processing city  #22 in group #8 | loubomo\n",
      "processing city  #23 in group #8 | octeville\n",
      "processing city  #24 in group #8 | alyangula\n",
      "processing city  #25 in group #8 | borovoy\n",
      "processing city  #26 in group #8 | port hedland\n",
      "processing city  #27 in group #8 | mahon\n",
      "processing city  #28 in group #8 | alexandria\n",
      "processing city  #29 in group #8 | oyama\n",
      "processing city  #30 in group #8 | tezu\n",
      "processing city  #31 in group #8 | richards bay\n",
      "processing city  #32 in group #8 | vila velha\n",
      "processing city  #33 in group #8 | cabo san lucas\n",
      "processing city  #34 in group #8 | candido mendes\n",
      "processing city  #35 in group #8 | sao joao da barra\n",
      "processing city  #36 in group #8 | ashland\n",
      "processing city  #37 in group #8 | thompson\n",
      "processing city  #38 in group #8 | yunjinghong\n",
      "City not found: yunjinghong\n",
      "processing city  #39 in group #8 | solenzo\n",
      "processing city  #40 in group #8 | birao\n",
      "processing city  #41 in group #8 | te anau\n",
      "processing city  #42 in group #8 | luanda\n",
      "processing city  #43 in group #8 | tromso\n",
      "processing city  #44 in group #8 | meulaboh\n",
      "processing city  #45 in group #8 | cayenne\n",
      "processing city  #46 in group #8 | tual\n",
      "processing city  #47 in group #8 | pescara\n",
      "processing city  #48 in group #8 | hunza\n",
      "City not found: hunza\n",
      "processing city  #49 in group #8 | usinsk\n",
      "processing city  #50 in group #8 | jiaonan\n",
      "processing city  #1 in group #9 | milingimbi\n",
      "City not found: milingimbi\n",
      "processing city  #2 in group #9 | alofi\n",
      "processing city  #3 in group #9 | tigre\n",
      "processing city  #4 in group #9 | honiara\n",
      "processing city  #5 in group #9 | lata\n",
      "processing city  #6 in group #9 | goderich\n",
      "processing city  #7 in group #9 | lamesa\n",
      "processing city  #8 in group #9 | bamboo\n",
      "processing city  #9 in group #9 | bonavista\n",
      "processing city  #10 in group #9 | bollnas\n",
      "processing city  #11 in group #9 | marsh harbour\n",
      "processing city  #12 in group #9 | pinotepa nacional\n",
      "processing city  #13 in group #9 | sibolga\n",
      "processing city  #14 in group #9 | bagdarin\n",
      "processing city  #15 in group #9 | tautira\n",
      "processing city  #16 in group #9 | evanston\n",
      "processing city  #17 in group #9 | skagastrond\n",
      "City not found: skagastrond\n",
      "processing city  #18 in group #9 | leningradskiy\n",
      "processing city  #19 in group #9 | ust-omchug\n",
      "processing city  #20 in group #9 | kenai\n",
      "processing city  #21 in group #9 | kulhudhuffushi\n",
      "processing city  #22 in group #9 | sungaipenuh\n",
      "processing city  #23 in group #9 | palmer\n",
      "processing city  #24 in group #9 | bonthe\n",
      "processing city  #25 in group #9 | portobelo\n",
      "processing city  #26 in group #9 | gvardeysk\n",
      "processing city  #27 in group #9 | puerto leguizamo\n",
      "processing city  #28 in group #9 | san quintin\n",
      "processing city  #29 in group #9 | narimanov\n",
      "processing city  #30 in group #9 | cuamba\n",
      "processing city  #31 in group #9 | tirur\n",
      "processing city  #32 in group #9 | emba\n",
      "processing city  #33 in group #9 | rincon\n",
      "processing city  #34 in group #9 | tiksi\n",
      "processing city  #35 in group #9 | toledo\n",
      "processing city  #36 in group #9 | malakal\n",
      "processing city  #37 in group #9 | maumere\n",
      "processing city  #38 in group #9 | kalabo\n",
      "processing city  #39 in group #9 | sept-iles\n",
      "processing city  #40 in group #9 | shangzhi\n",
      "processing city  #41 in group #9 | aken\n",
      "processing city  #42 in group #9 | isangel\n",
      "processing city  #43 in group #9 | temaraia\n",
      "City not found: temaraia\n",
      "processing city  #44 in group #9 | kampong chhnang\n",
      "processing city  #45 in group #9 | sindi\n",
      "processing city  #46 in group #9 | doctor pedro p. pena\n",
      "City not found: doctor pedro p. pena\n",
      "processing city  #47 in group #9 | trincomalee\n",
      "processing city  #48 in group #9 | coffs harbour\n",
      "processing city  #49 in group #9 | san jose\n",
      "processing city  #50 in group #9 | ostrovnoy\n",
      "processing city  #1 in group #10 | port augusta\n",
      "processing city  #2 in group #10 | emerald\n",
      "processing city  #3 in group #10 | tidore\n",
      "City not found: tidore\n",
      "processing city  #4 in group #10 | urusha\n",
      "processing city  #5 in group #10 | mahibadhoo\n",
      "processing city  #6 in group #10 | poronaysk\n",
      "processing city  #7 in group #10 | sandwick\n",
      "processing city  #8 in group #10 | altay\n",
      "processing city  #9 in group #10 | erice\n",
      "processing city  #10 in group #10 | namtsy\n",
      "processing city  #11 in group #10 | kedougou\n",
      "processing city  #12 in group #10 | muravlenko\n",
      "processing city  #13 in group #10 | omsukchan\n",
      "processing city  #14 in group #10 | srandakan\n",
      "processing city  #15 in group #10 | wau\n",
      "processing city  #16 in group #10 | rambha\n",
      "processing city  #17 in group #10 | duz\n",
      "City not found: duz\n",
      "processing city  #18 in group #10 | tura\n",
      "processing city  #19 in group #10 | voh\n",
      "processing city  #20 in group #10 | sobolevo\n",
      "processing city  #21 in group #10 | okha\n",
      "processing city  #22 in group #10 | aripuana\n",
      "processing city  #23 in group #10 | viligili\n",
      "City not found: viligili\n",
      "processing city  #24 in group #10 | meadow lake\n",
      "processing city  #25 in group #10 | aklavik\n",
      "processing city  #26 in group #10 | talitsa\n",
      "processing city  #27 in group #10 | manzil tamim\n",
      "City not found: manzil tamim\n",
      "processing city  #28 in group #10 | whitehorse\n",
      "processing city  #29 in group #10 | thiruvananthapuram\n",
      "processing city  #30 in group #10 | itaueira\n",
      "processing city  #31 in group #10 | cap malheureux\n",
      "processing city  #32 in group #10 | angoram\n",
      "processing city  #33 in group #10 | koygorodok\n",
      "processing city  #34 in group #10 | itumba\n",
      "processing city  #35 in group #10 | pangnirtung\n",
      "processing city  #36 in group #10 | san cristobal\n",
      "processing city  #37 in group #10 | collipulli\n",
      "processing city  #38 in group #10 | hamilton\n",
      "processing city  #39 in group #10 | arinos\n",
      "processing city  #40 in group #10 | haines junction\n",
      "processing city  #41 in group #10 | cagayan de tawi-tawi\n",
      "City not found: cagayan de tawi-tawi\n",
      "processing city  #42 in group #10 | lorengau\n",
      "processing city  #43 in group #10 | cururupu\n",
      "processing city  #44 in group #10 | mercedes\n",
      "processing city  #45 in group #10 | boshan\n",
      "processing city  #46 in group #10 | cockburn town\n",
      "processing city  #47 in group #10 | gizo\n",
      "processing city  #48 in group #10 | vestmannaeyjar\n",
      "processing city  #49 in group #10 | oranjemund\n",
      "processing city  #50 in group #10 | norman wells\n",
      "processing city  #1 in group #11 | lewistown\n",
      "processing city  #2 in group #11 | dieppe\n",
      "processing city  #3 in group #11 | sulangan\n",
      "processing city  #4 in group #11 | ruatoria\n",
      "City not found: ruatoria\n",
      "processing city  #5 in group #11 | tera\n",
      "processing city  #6 in group #11 | agirish\n",
      "processing city  #7 in group #11 | kenora\n",
      "processing city  #8 in group #11 | nuevo casas grandes\n",
      "processing city  #9 in group #11 | roura\n",
      "processing city  #10 in group #11 | uglich\n",
      "processing city  #11 in group #11 | andros town\n",
      "processing city  #12 in group #11 | manokwari\n",
      "processing city  #13 in group #11 | shahr-e babak\n",
      "processing city  #14 in group #11 | puerto plata\n",
      "processing city  #15 in group #11 | porto novo\n",
      "processing city  #16 in group #11 | high level\n",
      "processing city  #17 in group #11 | discovery bay\n",
      "processing city  #18 in group #11 | canutama\n",
      "processing city  #19 in group #11 | puerto princesa\n",
      "processing city  #20 in group #11 | opobo\n",
      "City not found: opobo\n",
      "processing city  #21 in group #11 | ust-maya\n",
      "processing city  #22 in group #11 | ixtapa\n",
      "processing city  #23 in group #11 | rach gia\n",
      "processing city  #24 in group #11 | tessalit\n",
      "processing city  #25 in group #11 | bumiayu\n",
      "processing city  #26 in group #11 | wyndham\n",
      "processing city  #27 in group #11 | atambua\n"
     ]
    },
    {
     "name": "stdout",
     "output_type": "stream",
     "text": [
      "processing city  #28 in group #11 | port blair\n",
      "processing city  #29 in group #11 | shahrud\n",
      "processing city  #30 in group #11 | salalah\n",
      "processing city  #31 in group #11 | salina cruz\n",
      "processing city  #32 in group #11 | anadyr\n",
      "processing city  #33 in group #11 | dillon\n",
      "processing city  #34 in group #11 | tikapur\n",
      "processing city  #35 in group #11 | thisted\n",
      "processing city  #36 in group #11 | road town\n",
      "processing city  #37 in group #11 | chimbote\n",
      "processing city  #38 in group #11 | atar\n",
      "processing city  #39 in group #11 | oktyabrskoye\n",
      "processing city  #40 in group #11 | gazli\n",
      "processing city  #41 in group #11 | miraflores\n",
      "processing city  #42 in group #11 | mayumba\n",
      "processing city  #43 in group #11 | sisimiut\n",
      "processing city  #44 in group #11 | poum\n",
      "processing city  #45 in group #11 | menongue\n",
      "processing city  #46 in group #11 | de aar\n",
      "processing city  #47 in group #11 | bone\n",
      "processing city  #48 in group #11 | khorixas\n",
      "processing city  #49 in group #11 | boyolangu\n",
      "processing city  #50 in group #11 | barawe\n",
      "City not found: barawe\n",
      "processing city  #1 in group #12 | rolla\n",
      "processing city  #2 in group #12 | ayna\n",
      "processing city  #3 in group #12 | imbituba\n",
      "processing city  #4 in group #12 | cheuskiny\n",
      "City not found: cheuskiny\n",
      "processing city  #5 in group #12 | malwan\n",
      "City not found: malwan\n",
      "processing city  #6 in group #12 | tomatlan\n",
      "processing city  #7 in group #12 | korba\n",
      "processing city  #8 in group #12 | zhaotong\n",
      "processing city  #9 in group #12 | portland\n",
      "processing city  #10 in group #12 | camacha\n",
      "processing city  #11 in group #12 | saint-leu\n",
      "processing city  #12 in group #12 | jalingo\n",
      "processing city  #13 in group #12 | mayo\n",
      "processing city  #14 in group #12 | panlaitan\n",
      "processing city  #15 in group #12 | sorrento\n",
      "processing city  #16 in group #12 | mattru\n",
      "processing city  #17 in group #12 | lyngseidet\n",
      "processing city  #18 in group #12 | solnechnyy\n",
      "processing city  #19 in group #12 | hutchinson\n",
      "processing city  #20 in group #12 | chapadinha\n",
      "processing city  #21 in group #12 | nishihara\n",
      "processing city  #22 in group #12 | beroroha\n",
      "processing city  #23 in group #12 | aboyne\n",
      "processing city  #24 in group #12 | jackson\n",
      "processing city  #25 in group #12 | ahuimanu\n",
      "processing city  #26 in group #12 | rawson\n",
      "processing city  #27 in group #12 | merrill\n",
      "processing city  #28 in group #12 | kabwe\n",
      "processing city  #29 in group #12 | laiyang\n",
      "processing city  #30 in group #12 | doha\n",
      "processing city  #31 in group #12 | auki\n",
      "processing city  #32 in group #12 | cacoal\n",
      "processing city  #33 in group #12 | padre bernardo\n",
      "processing city  #34 in group #12 | nandi hills\n",
      "***************************\n",
      "Data pull Complete         \n",
      "***************************\n"
     ]
    }
   ],
   "source": [
    "#print for logger\n",
    "print(\" Beginning Data Retrieval      \")\n",
    "print(\"*******************************\")\n",
    "\n",
    "\n",
    "\n",
    "#url = f\"http://api.openweathermap.org/data/2.5/weather?units=imperial&APPID{weather_api_key}\"\n",
    "\n",
    "\n",
    "#list of city data\n",
    "city_data =[]\n",
    "\n",
    "#create counter\n",
    "record_count = 1\n",
    "set_count = 1\n",
    "\n",
    "\n",
    "#loop through all the cities in the list\n",
    "for i, city in enumerate(cities):\n",
    "    \n",
    "    \n",
    "    #group the cities in sets of 50 for logging purposes\n",
    "    if(i % 50 == 0 and i >= 50):\n",
    "        #reset the group every 50 counts of cities\n",
    "        set_count += 1\n",
    "        record_count = 1\n",
    "        \n",
    "    #create the endpoint url for each city\n",
    "    city_url = f\"{query_url}&q={city}\"\n",
    "    \n",
    "    #log record and set number\n",
    "    print(f\"processing city  #{record_count} in group #{set_count} | {city}\")\n",
    "    record_count += 1\n",
    "    \n",
    "    try:\n",
    "            #api requests and retrieve data\n",
    "        weather_response = requests.get(query_url + city).json()\n",
    "        \n",
    "        #time delay to prevent api blowout\n",
    "        time.sleep(2)\n",
    "        \n",
    "       # parse max temp, humididty, cloudiness\n",
    "        city_lat = weather_response[\"coord\"][\"lat\"]\n",
    "        city_lng = weather_response[\"coord\"][\"lon\"]\n",
    "        city_max_temp = weather_response[\"main\"][\"temp_max\"]\n",
    "        city_humidity = weather_response[\"main\"][\"humidity\"]\n",
    "        city_clouds = weather_response[\"clouds\"][\"all\"]\n",
    "        city_wind = weather_response[\"wind\"][\"speed\"]\n",
    "        city_country = weather_response[\"sys\"][\"country\"]\n",
    "        city_date = weather_response[\"dt\"]\n",
    "        \n",
    "        \n",
    "        #append(weather_response) into data list\n",
    "        city_data.append({\"City\": city,\n",
    "                          \"Lat\": city_lat,\n",
    "                          \"Lng\": city_lng,\n",
    "                          \"Max_temp\": city_max_temp,\n",
    "                          \"Humidity\": city_humidity,\n",
    "                          \"Cloudiness\": city_clouds,\n",
    "                          \"Wind Speed\": city_wind,\n",
    "                          \"Country\": city_country,\n",
    "                          \"Date\": city_date,                        \n",
    "                         })\n",
    "        \n",
    "        \n",
    "                \n",
    "        \n",
    "    except:\n",
    "        #if an error occurs while making api call, skip the city\n",
    "        print(\"City not found: \" + city)\n",
    "        pass\n",
    "print(\"***************************\")\n",
    "print(\"Data pull Complete         \")\n",
    "print(\"***************************\")\n",
    "      \n",
    "\n",
    "        \n",
    "\n"
   ]
  },
  {
   "cell_type": "markdown",
   "metadata": {},
   "source": [
    "### Convert Raw Data to DataFrame\n",
    "* Export the city data into a .csv.\n",
    "* Display the DataFrame"
   ]
  },
  {
   "cell_type": "code",
   "execution_count": 7,
   "metadata": {},
   "outputs": [
    {
     "data": {
      "text/html": [
       "<div>\n",
       "<style scoped>\n",
       "    .dataframe tbody tr th:only-of-type {\n",
       "        vertical-align: middle;\n",
       "    }\n",
       "\n",
       "    .dataframe tbody tr th {\n",
       "        vertical-align: top;\n",
       "    }\n",
       "\n",
       "    .dataframe thead th {\n",
       "        text-align: right;\n",
       "    }\n",
       "</style>\n",
       "<table border=\"1\" class=\"dataframe\">\n",
       "  <thead>\n",
       "    <tr style=\"text-align: right;\">\n",
       "      <th></th>\n",
       "      <th>City</th>\n",
       "      <th>Lat</th>\n",
       "      <th>Lng</th>\n",
       "      <th>Max_temp</th>\n",
       "      <th>Humidity</th>\n",
       "      <th>Cloudiness</th>\n",
       "      <th>Wind Speed</th>\n",
       "      <th>Country</th>\n",
       "      <th>Date</th>\n",
       "    </tr>\n",
       "  </thead>\n",
       "  <tbody>\n",
       "    <tr>\n",
       "      <th>0</th>\n",
       "      <td>morro bay</td>\n",
       "      <td>35.3658</td>\n",
       "      <td>-120.8499</td>\n",
       "      <td>77.40</td>\n",
       "      <td>86</td>\n",
       "      <td>84</td>\n",
       "      <td>3.67</td>\n",
       "      <td>US</td>\n",
       "      <td>1662865112</td>\n",
       "    </tr>\n",
       "    <tr>\n",
       "      <th>1</th>\n",
       "      <td>tasiilaq</td>\n",
       "      <td>65.6145</td>\n",
       "      <td>-37.6368</td>\n",
       "      <td>34.59</td>\n",
       "      <td>76</td>\n",
       "      <td>75</td>\n",
       "      <td>3.98</td>\n",
       "      <td>GL</td>\n",
       "      <td>1662865114</td>\n",
       "    </tr>\n",
       "    <tr>\n",
       "      <th>2</th>\n",
       "      <td>manadhoo</td>\n",
       "      <td>5.7667</td>\n",
       "      <td>73.3833</td>\n",
       "      <td>80.58</td>\n",
       "      <td>82</td>\n",
       "      <td>80</td>\n",
       "      <td>14.12</td>\n",
       "      <td>MV</td>\n",
       "      <td>1662865117</td>\n",
       "    </tr>\n",
       "    <tr>\n",
       "      <th>3</th>\n",
       "      <td>jamestown</td>\n",
       "      <td>42.0970</td>\n",
       "      <td>-79.2353</td>\n",
       "      <td>66.72</td>\n",
       "      <td>69</td>\n",
       "      <td>0</td>\n",
       "      <td>6.91</td>\n",
       "      <td>US</td>\n",
       "      <td>1662864950</td>\n",
       "    </tr>\n",
       "    <tr>\n",
       "      <th>4</th>\n",
       "      <td>rikitea</td>\n",
       "      <td>-23.1203</td>\n",
       "      <td>-134.9692</td>\n",
       "      <td>73.09</td>\n",
       "      <td>70</td>\n",
       "      <td>32</td>\n",
       "      <td>11.97</td>\n",
       "      <td>PF</td>\n",
       "      <td>1662865121</td>\n",
       "    </tr>\n",
       "  </tbody>\n",
       "</table>\n",
       "</div>"
      ],
      "text/plain": [
       "        City      Lat       Lng  Max_temp  Humidity  Cloudiness  Wind Speed  \\\n",
       "0  morro bay  35.3658 -120.8499     77.40        86          84        3.67   \n",
       "1   tasiilaq  65.6145  -37.6368     34.59        76          75        3.98   \n",
       "2   manadhoo   5.7667   73.3833     80.58        82          80       14.12   \n",
       "3  jamestown  42.0970  -79.2353     66.72        69           0        6.91   \n",
       "4    rikitea -23.1203 -134.9692     73.09        70          32       11.97   \n",
       "\n",
       "  Country        Date  \n",
       "0      US  1662865112  \n",
       "1      GL  1662865114  \n",
       "2      MV  1662865117  \n",
       "3      US  1662864950  \n",
       "4      PF  1662865121  "
      ]
     },
     "execution_count": 7,
     "metadata": {},
     "output_type": "execute_result"
    }
   ],
   "source": [
    "city_data_pd = pd.DataFrame(city_data)\n",
    "city_data_pd.head()"
   ]
  },
  {
   "cell_type": "code",
   "execution_count": 8,
   "metadata": {},
   "outputs": [
    {
     "data": {
      "text/html": [
       "<div>\n",
       "<style scoped>\n",
       "    .dataframe tbody tr th:only-of-type {\n",
       "        vertical-align: middle;\n",
       "    }\n",
       "\n",
       "    .dataframe tbody tr th {\n",
       "        vertical-align: top;\n",
       "    }\n",
       "\n",
       "    .dataframe thead th {\n",
       "        text-align: right;\n",
       "    }\n",
       "</style>\n",
       "<table border=\"1\" class=\"dataframe\">\n",
       "  <thead>\n",
       "    <tr style=\"text-align: right;\">\n",
       "      <th></th>\n",
       "      <th>Lat</th>\n",
       "      <th>Lng</th>\n",
       "      <th>Max_temp</th>\n",
       "      <th>Humidity</th>\n",
       "      <th>Cloudiness</th>\n",
       "      <th>Wind Speed</th>\n",
       "      <th>Date</th>\n",
       "    </tr>\n",
       "  </thead>\n",
       "  <tbody>\n",
       "    <tr>\n",
       "      <th>count</th>\n",
       "      <td>537.000000</td>\n",
       "      <td>537.000000</td>\n",
       "      <td>537.000000</td>\n",
       "      <td>537.000000</td>\n",
       "      <td>537.000000</td>\n",
       "      <td>537.000000</td>\n",
       "      <td>5.370000e+02</td>\n",
       "    </tr>\n",
       "    <tr>\n",
       "      <th>mean</th>\n",
       "      <td>19.363478</td>\n",
       "      <td>13.790598</td>\n",
       "      <td>66.335419</td>\n",
       "      <td>73.122905</td>\n",
       "      <td>51.998138</td>\n",
       "      <td>7.201117</td>\n",
       "      <td>1.662866e+09</td>\n",
       "    </tr>\n",
       "    <tr>\n",
       "      <th>std</th>\n",
       "      <td>33.154308</td>\n",
       "      <td>91.686069</td>\n",
       "      <td>14.451563</td>\n",
       "      <td>18.852822</td>\n",
       "      <td>40.284321</td>\n",
       "      <td>5.341255</td>\n",
       "      <td>3.953852e+02</td>\n",
       "    </tr>\n",
       "    <tr>\n",
       "      <th>min</th>\n",
       "      <td>-54.800000</td>\n",
       "      <td>-175.200000</td>\n",
       "      <td>33.640000</td>\n",
       "      <td>12.000000</td>\n",
       "      <td>0.000000</td>\n",
       "      <td>0.000000</td>\n",
       "      <td>1.662865e+09</td>\n",
       "    </tr>\n",
       "    <tr>\n",
       "      <th>25%</th>\n",
       "      <td>-8.118100</td>\n",
       "      <td>-66.382100</td>\n",
       "      <td>54.460000</td>\n",
       "      <td>63.000000</td>\n",
       "      <td>8.000000</td>\n",
       "      <td>3.440000</td>\n",
       "      <td>1.662865e+09</td>\n",
       "    </tr>\n",
       "    <tr>\n",
       "      <th>50%</th>\n",
       "      <td>20.800000</td>\n",
       "      <td>14.966700</td>\n",
       "      <td>69.330000</td>\n",
       "      <td>77.000000</td>\n",
       "      <td>52.000000</td>\n",
       "      <td>5.750000</td>\n",
       "      <td>1.662866e+09</td>\n",
       "    </tr>\n",
       "    <tr>\n",
       "      <th>75%</th>\n",
       "      <td>48.649900</td>\n",
       "      <td>98.490800</td>\n",
       "      <td>78.980000</td>\n",
       "      <td>88.000000</td>\n",
       "      <td>98.000000</td>\n",
       "      <td>10.090000</td>\n",
       "      <td>1.662866e+09</td>\n",
       "    </tr>\n",
       "    <tr>\n",
       "      <th>max</th>\n",
       "      <td>78.218600</td>\n",
       "      <td>179.316700</td>\n",
       "      <td>92.550000</td>\n",
       "      <td>100.000000</td>\n",
       "      <td>100.000000</td>\n",
       "      <td>37.000000</td>\n",
       "      <td>1.662866e+09</td>\n",
       "    </tr>\n",
       "  </tbody>\n",
       "</table>\n",
       "</div>"
      ],
      "text/plain": [
       "              Lat         Lng    Max_temp    Humidity  Cloudiness  Wind Speed  \\\n",
       "count  537.000000  537.000000  537.000000  537.000000  537.000000  537.000000   \n",
       "mean    19.363478   13.790598   66.335419   73.122905   51.998138    7.201117   \n",
       "std     33.154308   91.686069   14.451563   18.852822   40.284321    5.341255   \n",
       "min    -54.800000 -175.200000   33.640000   12.000000    0.000000    0.000000   \n",
       "25%     -8.118100  -66.382100   54.460000   63.000000    8.000000    3.440000   \n",
       "50%     20.800000   14.966700   69.330000   77.000000   52.000000    5.750000   \n",
       "75%     48.649900   98.490800   78.980000   88.000000   98.000000   10.090000   \n",
       "max     78.218600  179.316700   92.550000  100.000000  100.000000   37.000000   \n",
       "\n",
       "               Date  \n",
       "count  5.370000e+02  \n",
       "mean   1.662866e+09  \n",
       "std    3.953852e+02  \n",
       "min    1.662865e+09  \n",
       "25%    1.662865e+09  \n",
       "50%    1.662866e+09  \n",
       "75%    1.662866e+09  \n",
       "max    1.662866e+09  "
      ]
     },
     "execution_count": 8,
     "metadata": {},
     "output_type": "execute_result"
    }
   ],
   "source": [
    "city_data_pd.describe()"
   ]
  },
  {
   "cell_type": "code",
   "execution_count": 11,
   "metadata": {},
   "outputs": [
    {
     "data": {
      "text/html": [
       "<div>\n",
       "<style scoped>\n",
       "    .dataframe tbody tr th:only-of-type {\n",
       "        vertical-align: middle;\n",
       "    }\n",
       "\n",
       "    .dataframe tbody tr th {\n",
       "        vertical-align: top;\n",
       "    }\n",
       "\n",
       "    .dataframe thead th {\n",
       "        text-align: right;\n",
       "    }\n",
       "</style>\n",
       "<table border=\"1\" class=\"dataframe\">\n",
       "  <thead>\n",
       "    <tr style=\"text-align: right;\">\n",
       "      <th></th>\n",
       "      <th>City</th>\n",
       "      <th>Lat</th>\n",
       "      <th>Lng</th>\n",
       "      <th>Max_temp</th>\n",
       "      <th>Humidity</th>\n",
       "      <th>Cloudiness</th>\n",
       "      <th>Wind Speed</th>\n",
       "      <th>Country</th>\n",
       "      <th>Date</th>\n",
       "    </tr>\n",
       "  </thead>\n",
       "  <tbody>\n",
       "  </tbody>\n",
       "</table>\n",
       "</div>"
      ],
      "text/plain": [
       "Empty DataFrame\n",
       "Columns: [City, Lat, Lng, Max_temp, Humidity, Cloudiness, Wind Speed, Country, Date]\n",
       "Index: []"
      ]
     },
     "execution_count": 11,
     "metadata": {},
     "output_type": "execute_result"
    }
   ],
   "source": [
    "maxHumidity = city_data_pd[city_data_pd[\"Humidity\"]>100]\n",
    "maxHumidity.head()"
   ]
  },
  {
   "cell_type": "code",
   "execution_count": 18,
   "metadata": {},
   "outputs": [],
   "source": [
    "lats = city_data_pd[\"Lat\"]\n",
    "max_temps = city_data_pd[\"Max_temp\"]\n",
    "humidity = city_data_pd[\"Humidity\"]\n",
    "cloudiness = city_data_pd[\"Cloudiness\"]\n",
    "wind_speed = city_data_pd[\"Wind Speed\"]\n",
    "\n",
    "city_data_pd.to_csv(output_data_file, index_label=\"City_ID\")"
   ]
  },
  {
   "cell_type": "markdown",
   "metadata": {},
   "source": [
    "## Inspect the data and remove the cities where the humidity > 100%.\n",
    "----\n",
    "Skip this step if there are no cities that have humidity > 100%. "
   ]
  },
  {
   "cell_type": "code",
   "execution_count": 36,
   "metadata": {},
   "outputs": [
    {
     "data": {
      "text/html": [
       "<div>\n",
       "<style scoped>\n",
       "    .dataframe tbody tr th:only-of-type {\n",
       "        vertical-align: middle;\n",
       "    }\n",
       "\n",
       "    .dataframe tbody tr th {\n",
       "        vertical-align: top;\n",
       "    }\n",
       "\n",
       "    .dataframe thead th {\n",
       "        text-align: right;\n",
       "    }\n",
       "</style>\n",
       "<table border=\"1\" class=\"dataframe\">\n",
       "  <thead>\n",
       "    <tr style=\"text-align: right;\">\n",
       "      <th></th>\n",
       "      <th>City</th>\n",
       "      <th>Lat</th>\n",
       "      <th>Lng</th>\n",
       "      <th>Max_temp</th>\n",
       "      <th>Humidity</th>\n",
       "      <th>Cloudiness</th>\n",
       "      <th>Wind Speed</th>\n",
       "      <th>Country</th>\n",
       "      <th>Date</th>\n",
       "    </tr>\n",
       "  </thead>\n",
       "  <tbody>\n",
       "    <tr>\n",
       "      <th>0</th>\n",
       "      <td>morro bay</td>\n",
       "      <td>35.3658</td>\n",
       "      <td>-120.8499</td>\n",
       "      <td>77.40</td>\n",
       "      <td>86</td>\n",
       "      <td>84</td>\n",
       "      <td>3.67</td>\n",
       "      <td>US</td>\n",
       "      <td>1662865112</td>\n",
       "    </tr>\n",
       "    <tr>\n",
       "      <th>1</th>\n",
       "      <td>tasiilaq</td>\n",
       "      <td>65.6145</td>\n",
       "      <td>-37.6368</td>\n",
       "      <td>34.59</td>\n",
       "      <td>76</td>\n",
       "      <td>75</td>\n",
       "      <td>3.98</td>\n",
       "      <td>GL</td>\n",
       "      <td>1662865114</td>\n",
       "    </tr>\n",
       "    <tr>\n",
       "      <th>2</th>\n",
       "      <td>manadhoo</td>\n",
       "      <td>5.7667</td>\n",
       "      <td>73.3833</td>\n",
       "      <td>80.58</td>\n",
       "      <td>82</td>\n",
       "      <td>80</td>\n",
       "      <td>14.12</td>\n",
       "      <td>MV</td>\n",
       "      <td>1662865117</td>\n",
       "    </tr>\n",
       "    <tr>\n",
       "      <th>3</th>\n",
       "      <td>jamestown</td>\n",
       "      <td>42.0970</td>\n",
       "      <td>-79.2353</td>\n",
       "      <td>66.72</td>\n",
       "      <td>69</td>\n",
       "      <td>0</td>\n",
       "      <td>6.91</td>\n",
       "      <td>US</td>\n",
       "      <td>1662864950</td>\n",
       "    </tr>\n",
       "    <tr>\n",
       "      <th>4</th>\n",
       "      <td>rikitea</td>\n",
       "      <td>-23.1203</td>\n",
       "      <td>-134.9692</td>\n",
       "      <td>73.09</td>\n",
       "      <td>70</td>\n",
       "      <td>32</td>\n",
       "      <td>11.97</td>\n",
       "      <td>PF</td>\n",
       "      <td>1662865121</td>\n",
       "    </tr>\n",
       "  </tbody>\n",
       "</table>\n",
       "</div>"
      ],
      "text/plain": [
       "        City      Lat       Lng  Max_temp  Humidity  Cloudiness  Wind Speed  \\\n",
       "0  morro bay  35.3658 -120.8499     77.40        86          84        3.67   \n",
       "1   tasiilaq  65.6145  -37.6368     34.59        76          75        3.98   \n",
       "2   manadhoo   5.7667   73.3833     80.58        82          80       14.12   \n",
       "3  jamestown  42.0970  -79.2353     66.72        69           0        6.91   \n",
       "4    rikitea -23.1203 -134.9692     73.09        70          32       11.97   \n",
       "\n",
       "  Country        Date  \n",
       "0      US  1662865112  \n",
       "1      GL  1662865114  \n",
       "2      MV  1662865117  \n",
       "3      US  1662864950  \n",
       "4      PF  1662865121  "
      ]
     },
     "execution_count": 36,
     "metadata": {},
     "output_type": "execute_result"
    }
   ],
   "source": [
    "# Make a new DataFrame equal to the city data to drop all humidity outliers by index.\n",
    "# Passing \"inplace=False\" will make a copy of the city_data DataFrame, which we call \"clean_city_data\".\n",
    "cleanWeatherDF = city_data_pd.loc[city_data_pd[\"Humidity\"] < 100, :]\n",
    "cleanWeatherDF.head()"
   ]
  },
  {
   "cell_type": "code",
   "execution_count": 27,
   "metadata": {},
   "outputs": [
    {
     "name": "stdout",
     "output_type": "stream",
     "text": [
      "<built-in method index of list object at 0x0000021B44AA6180>\n"
     ]
    }
   ],
   "source": [
    "#  Get the indices of cities that have humidity over 100%.\n",
    "highHumidity = [(city_data_pd[\"Humidity\"] > 100)].index\n",
    "print(highHumidity)"
   ]
  },
  {
   "cell_type": "markdown",
   "metadata": {},
   "source": [
    "## Plotting the Data\n",
    "* Use proper labeling of the plots using plot titles (including date of analysis) and axes labels.\n",
    "* Save the plotted figures as .pngs."
   ]
  },
  {
   "cell_type": "markdown",
   "metadata": {},
   "source": [
    "## Latitude vs. Temperature Plot"
   ]
  },
  {
   "cell_type": "code",
   "execution_count": 28,
   "metadata": {},
   "outputs": [
    {
     "data": {
      "text/plain": [
       "<function matplotlib.pyplot.show(close=None, block=None)>"
      ]
     },
     "execution_count": 28,
     "metadata": {},
     "output_type": "execute_result"
    },
    {
     "data": {
      "image/png": "[encoded data removed]",
      "text/plain": [
       "<Figure size 432x288 with 1 Axes>"
      ]
     },
     "metadata": {
      "needs_background": "light"
     },
     "output_type": "display_data"
    }
   ],
   "source": [
    "plt.scatter(lats, max_temps, edgecolor=\"black\", linewidths=1, marker=\"o\",\n",
    "           alpha=0.8, label=\"Cities\")\n",
    "\n",
    "# Set title\n",
    "plt.title(\"City Latitude vs. Max Temperature (%s)\" % time.strftime(\"%x\"))\n",
    "\n",
    "#x axis label\n",
    "plt.xlabel(\"Latitude\")\n",
    "\n",
    "# y axis label\n",
    "plt.ylabel(\"Max Temperature (F)\")\n",
    "\n",
    "# grid line\n",
    "plt.grid(True)\n",
    "\n",
    "plt.savefig(\"output_data/Fig1.png\")\n",
    "\n",
    "plt.show\n"
   ]
  },
  {
   "cell_type": "markdown",
   "metadata": {},
   "source": [
    "## Latitude vs. Humidity Plot"
   ]
  },
  {
   "cell_type": "code",
   "execution_count": 29,
   "metadata": {},
   "outputs": [
    {
     "data": {
      "text/plain": [
       "<function matplotlib.pyplot.show(close=None, block=None)>"
      ]
     },
     "execution_count": 29,
     "metadata": {},
     "output_type": "execute_result"
    },
    {
     "data": {
      "image/png": "[encoded data removed]",
      "text/plain": [
       "<Figure size 432x288 with 1 Axes>"
      ]
     },
     "metadata": {
      "needs_background": "light"
     },
     "output_type": "display_data"
    }
   ],
   "source": [
    "plt.scatter(lats, humidity, edgecolor=\"black\", linewidths=1, marker=\"o\",\n",
    "           alpha=0.8, label=\"Cities\")\n",
    "\n",
    "# Set title\n",
    "plt.title(\"City Latitude vs. Humidity (%s)\" % time.strftime(\"%x\"))\n",
    "\n",
    "#x axis label\n",
    "plt.xlabel(\"Latitude\")\n",
    "\n",
    "# y axis label\n",
    "plt.ylabel(\"Humidity (%)\")\n",
    "\n",
    "# grid line\n",
    "plt.grid(True)\n",
    "\n",
    "plt.savefig(\"output_data/Fig2.png\")\n",
    "\n",
    "plt.show"
   ]
  },
  {
   "cell_type": "code",
   "execution_count": null,
   "metadata": {},
   "outputs": [],
   "source": []
  },
  {
   "cell_type": "markdown",
   "metadata": {},
   "source": [
    "## Latitude vs. Cloudiness Plot"
   ]
  },
  {
   "cell_type": "code",
   "execution_count": 30,
   "metadata": {},
   "outputs": [
    {
     "data": {
      "text/plain": [
       "<function matplotlib.pyplot.show(close=None, block=None)>"
      ]
     },
     "execution_count": 30,
     "metadata": {},
     "output_type": "execute_result"
    },
    {
     "data": {
      "image/png": "[encoded data removed]",
      "text/plain": [
       "<Figure size 432x288 with 1 Axes>"
      ]
     },
     "metadata": {
      "needs_background": "light"
     },
     "output_type": "display_data"
    }
   ],
   "source": [
    "plt.scatter(lats, cloudiness, edgecolor=\"black\", linewidths=1, marker=\"o\",\n",
    "           alpha=0.8, label=\"Cities\")\n",
    "\n",
    "# Set title\n",
    "plt.title(\"City Latitude vs. Cloudiness (%s)\" % time.strftime(\"%x\"))\n",
    "\n",
    "#x axis label\n",
    "plt.xlabel(\"Latitude\")\n",
    "\n",
    "# y axis label\n",
    "plt.ylabel(\"Cloudines (%)\")\n",
    "\n",
    "# grid line\n",
    "plt.grid(True)\n",
    "\n",
    "plt.savefig(\"output_data/Fig3.png\")\n",
    "\n",
    "plt.show"
   ]
  },
  {
   "cell_type": "markdown",
   "metadata": {},
   "source": [
    "## Latitude vs. Wind Speed Plot"
   ]
  },
  {
   "cell_type": "code",
   "execution_count": 31,
   "metadata": {},
   "outputs": [
    {
     "data": {
      "text/plain": [
       "<function matplotlib.pyplot.show(close=None, block=None)>"
      ]
     },
     "execution_count": 31,
     "metadata": {},
     "output_type": "execute_result"
    },
    {
     "data": {
      "image/png": "[encoded data removed]",
      "text/plain": [
       "<Figure size 432x288 with 1 Axes>"
      ]
     },
     "metadata": {
      "needs_background": "light"
     },
     "output_type": "display_data"
    }
   ],
   "source": [
    "plt.scatter(lats, wind_speed, edgecolor=\"black\", linewidths=1, marker=\"o\",\n",
    "           alpha=0.8, label=\"Cities\")\n",
    "\n",
    "# Set title\n",
    "plt.title(\"City Latitude vs. Wind Speed (%s)\" % time.strftime(\"%x\"))\n",
    "\n",
    "#x axis label\n",
    "plt.xlabel(\"Latitude\")\n",
    "\n",
    "# y axis label\n",
    "plt.ylabel(\"Wind Speed (MPH)\")\n",
    "\n",
    "# grid line\n",
    "plt.grid(True)\n",
    "\n",
    "plt.savefig(\"output_data/Fig4.png\")\n",
    "\n",
    "plt.show"
   ]
  },
  {
   "cell_type": "markdown",
   "metadata": {},
   "source": [
    "## Linear Regression"
   ]
  },
  {
   "cell_type": "code",
   "execution_count": 40,
   "metadata": {},
   "outputs": [],
   "source": [
    "def plot_linear_regression(x_values, y_values, title, text_coordinates):\n",
    "    \n",
    "    \n",
    "    (slope, intercept, rvalue, pvalue, stderr) = linregress(x_values, y_values)\n",
    "    regress_values = x_values * slope + intercept\n",
    "    line_eq = \"y = \" + str(round(slope,2)) + \"x + \" + str(round(intercept,2))\n",
    "    \n",
    "    \n",
    "    plt.scatter(x_values,y_values)\n",
    "    plt.plot(x_values,regress_values,\"r-\")\n",
    "    plt.annotate(line_eq,text_coordinates,fontsize=15,color=\"red\")\n",
    "    plt.xlabel('Latitude')\n",
    "    plt.ylabel(title)\n",
    "    \n",
    "    print(f'The r-value is: {rvalue**2}')\n",
    "    print(line_eq)\n",
    "    \n",
    "    \n",
    "    \n",
    "    plt.show()"
   ]
  },
  {
   "cell_type": "code",
   "execution_count": 41,
   "metadata": {},
   "outputs": [],
   "source": [
    "#Northern and Southern Hemisphere DataFrames\n",
    "northern_hemisphere = city_data_pd.loc[city_data_pd[\"Lat\"] >= 0]\n",
    "southern_hemisphere = city_data_pd.loc[city_data_pd[\"Lat\"] < 0]"
   ]
  },
  {
   "cell_type": "markdown",
   "metadata": {},
   "source": [
    "####  Northern Hemisphere - Max Temp vs. Latitude Linear Regression"
   ]
  },
  {
   "cell_type": "code",
   "execution_count": 45,
   "metadata": {
    "scrolled": true
   },
   "outputs": [
    {
     "name": "stdout",
     "output_type": "stream",
     "text": [
      "The r-value is: 0.6568436873425266\n",
      "y = -0.59x + 88.89\n"
     ]
    },
    {
     "data": {
      "image/png": "[encoded data removed]",
      "text/plain": [
       "<Figure size 432x288 with 1 Axes>"
      ]
     },
     "metadata": {
      "needs_background": "light"
     },
     "output_type": "display_data"
    },
    {
     "data": {
      "text/plain": [
       "<Figure size 432x288 with 0 Axes>"
      ]
     },
     "metadata": {},
     "output_type": "display_data"
    }
   ],
   "source": [
    "#set the data sets to compare\n",
    "x_values = northern_hemisphere[\"Lat\"]\n",
    "y_values = northern_hemisphere[\"Max_temp\"]\n",
    "plot_linear_regression(x_values, y_values, \"Max_temp\", (63,30))\n",
    "\n",
    "plt.savefig(\"output_data/Northern Hemisphere - Max Temp vs. Latitude Linear Regression.png\")"
   ]
  },
  {
   "cell_type": "markdown",
   "metadata": {},
   "source": [
    "####  Southern Hemisphere - Max Temp vs. Latitude Linear Regression"
   ]
  },
  {
   "cell_type": "code",
   "execution_count": 48,
   "metadata": {},
   "outputs": [
    {
     "name": "stdout",
     "output_type": "stream",
     "text": [
      "The r-value is: 0.4940219446519391\n",
      "y = 0.68x + 80.28\n"
     ]
    },
    {
     "data": {
      "image/png": "[encoded data removed]",
      "text/plain": [
       "<Figure size 432x288 with 1 Axes>"
      ]
     },
     "metadata": {
      "needs_background": "light"
     },
     "output_type": "display_data"
    },
    {
     "data": {
      "text/plain": [
       "<Figure size 432x288 with 0 Axes>"
      ]
     },
     "metadata": {},
     "output_type": "display_data"
    }
   ],
   "source": [
    "x_values = southern_hemisphere[\"Lat\"]\n",
    "y_values = southern_hemisphere[\"Max_temp\"]\n",
    "plot_linear_regression(x_values, y_values, \"Max_temp\", (-55,90))\n",
    "\n",
    "plt.savefig(\"output_data/Southern Hemisphere - Max Temp vs. Latitude Linear Regression.png\")"
   ]
  },
  {
   "cell_type": "markdown",
   "metadata": {},
   "source": [
    "####  Northern Hemisphere - Humidity (%) vs. Latitude Linear Regression"
   ]
  },
  {
   "cell_type": "code",
   "execution_count": 49,
   "metadata": {},
   "outputs": [
    {
     "name": "stdout",
     "output_type": "stream",
     "text": [
      "The r-value is: 0.0019106396285192093\n",
      "y = -0.04x + 76.86\n"
     ]
    },
    {
     "data": {
      "image/png": "[encoded data removed]",
      "text/plain": [
       "<Figure size 432x288 with 1 Axes>"
      ]
     },
     "metadata": {
      "needs_background": "light"
     },
     "output_type": "display_data"
    },
    {
     "data": {
      "text/plain": [
       "<Figure size 432x288 with 0 Axes>"
      ]
     },
     "metadata": {},
     "output_type": "display_data"
    }
   ],
   "source": [
    "x_values = northern_hemisphere[\"Lat\"]\n",
    "y_values = northern_hemisphere[\"Humidity\"]\n",
    "plot_linear_regression(x_values, y_values, \"Humidity\", (6,30))\n",
    "\n",
    "plt.savefig(\"output_data/Northern Hemisphere - Humidity (%) vs. Latitude Linear Regression.png\")"
   ]
  },
  {
   "cell_type": "markdown",
   "metadata": {},
   "source": [
    "####  Southern Hemisphere - Humidity (%) vs. Latitude Linear Regression"
   ]
  },
  {
   "cell_type": "code",
   "execution_count": 52,
   "metadata": {},
   "outputs": [
    {
     "name": "stdout",
     "output_type": "stream",
     "text": [
      "The r-value is: 0.018118601609081852\n",
      "y = 0.2x + 72.41\n"
     ]
    },
    {
     "data": {
      "image/png": "[encoded data removed]",
      "text/plain": [
       "<Figure size 432x288 with 1 Axes>"
      ]
     },
     "metadata": {
      "needs_background": "light"
     },
     "output_type": "display_data"
    },
    {
     "data": {
      "text/plain": [
       "<Figure size 432x288 with 0 Axes>"
      ]
     },
     "metadata": {},
     "output_type": "display_data"
    }
   ],
   "source": [
    "x_values = southern_hemisphere[\"Lat\"]\n",
    "y_values = southern_hemisphere[\"Humidity\"]\n",
    "plot_linear_regression(x_values, y_values, \"Humidity\", (-40,10))\n",
    "\n",
    "plt.savefig(\"output_data/Southern Hemisphere - Humidity (%) vs. Latitude Linear Regression.png\")"
   ]
  },
  {
   "cell_type": "markdown",
   "metadata": {},
   "source": [
    "####  Northern Hemisphere - Cloudiness (%) vs. Latitude Linear Regression"
   ]
  },
  {
   "cell_type": "code",
   "execution_count": 53,
   "metadata": {},
   "outputs": [
    {
     "name": "stdout",
     "output_type": "stream",
     "text": [
      "The r-value is: 0.008004509646764925\n",
      "y = 0.17x + 53.08\n"
     ]
    },
    {
     "data": {
      "image/png": "[encoded data removed]",
      "text/plain": [
       "<Figure size 432x288 with 1 Axes>"
      ]
     },
     "metadata": {
      "needs_background": "light"
     },
     "output_type": "display_data"
    },
    {
     "data": {
      "text/plain": [
       "<Figure size 432x288 with 0 Axes>"
      ]
     },
     "metadata": {},
     "output_type": "display_data"
    }
   ],
   "source": [
    "x_values = northern_hemisphere[\"Lat\"]\n",
    "y_values = northern_hemisphere[\"Cloudiness\"]\n",
    "plot_linear_regression(x_values, y_values, \"Cloudiness\", (6,30))\n",
    "\n",
    "plt.savefig(\"output_data/Northern Hemisphere - Cloudiness (%) vs. Latitude Linear Regression.png\")"
   ]
  },
  {
   "cell_type": "markdown",
   "metadata": {},
   "source": [
    "####  Southern Hemisphere - Cloudiness (%) vs. Latitude Linear Regression"
   ]
  },
  {
   "cell_type": "code",
   "execution_count": 56,
   "metadata": {},
   "outputs": [
    {
     "name": "stdout",
     "output_type": "stream",
     "text": [
      "The r-value is: 0.06699357057840385\n",
      "y = 0.73x + 50.98\n"
     ]
    },
    {
     "data": {
      "image/png": "[encoded data removed]",
      "text/plain": [
       "<Figure size 432x288 with 1 Axes>"
      ]
     },
     "metadata": {
      "needs_background": "light"
     },
     "output_type": "display_data"
    },
    {
     "data": {
      "text/plain": [
       "<Figure size 432x288 with 0 Axes>"
      ]
     },
     "metadata": {},
     "output_type": "display_data"
    }
   ],
   "source": [
    "x_values = southern_hemisphere[\"Lat\"]\n",
    "y_values = southern_hemisphere[\"Cloudiness\"]\n",
    "plot_linear_regression(x_values, y_values, \"Cloudiness\", (-20,30))\n",
    "\n",
    "plt.savefig(\"output_data/Southern Hemisphere - Cloudiness (%) vs. Latitude Linear Regression.png\")"
   ]
  },
  {
   "cell_type": "markdown",
   "metadata": {},
   "source": [
    "####  Northern Hemisphere - Wind Speed (mph) vs. Latitude Linear Regression"
   ]
  },
  {
   "cell_type": "code",
   "execution_count": 57,
   "metadata": {},
   "outputs": [
    {
     "name": "stdout",
     "output_type": "stream",
     "text": [
      "The r-value is: 0.008085253980732121\n",
      "y = 0.02x + 6.31\n"
     ]
    },
    {
     "data": {
      "image/png": "[encoded data removed]",
      "text/plain": [
       "<Figure size 432x288 with 1 Axes>"
      ]
     },
     "metadata": {
      "needs_background": "light"
     },
     "output_type": "display_data"
    },
    {
     "data": {
      "text/plain": [
       "<Figure size 432x288 with 0 Axes>"
      ]
     },
     "metadata": {},
     "output_type": "display_data"
    }
   ],
   "source": [
    "x_values = northern_hemisphere[\"Lat\"]\n",
    "y_values = northern_hemisphere[\"Wind Speed\"]\n",
    "plot_linear_regression(x_values, y_values, \"Wind Speed\", (6,30))\n",
    "\n",
    "plt.savefig(\"output_data/Northern Hemisphere - Wind Speed (mph) vs. Latitude Linear Regression.png\")"
   ]
  },
  {
   "cell_type": "markdown",
   "metadata": {},
   "source": [
    "####  Southern Hemisphere - Wind Speed (mph) vs. Latitude Linear Regression"
   ]
  },
  {
   "cell_type": "code",
   "execution_count": 58,
   "metadata": {},
   "outputs": [
    {
     "name": "stdout",
     "output_type": "stream",
     "text": [
      "The r-value is: 0.03228530249215384\n",
      "y = -0.07x + 5.81\n"
     ]
    },
    {
     "data": {
      "image/png": "[encoded data removed]",
      "text/plain": [
       "<Figure size 432x288 with 1 Axes>"
      ]
     },
     "metadata": {
      "needs_background": "light"
     },
     "output_type": "display_data"
    },
    {
     "data": {
      "text/plain": [
       "<Figure size 432x288 with 0 Axes>"
      ]
     },
     "metadata": {},
     "output_type": "display_data"
    }
   ],
   "source": [
    "x_values = southern_hemisphere[\"Lat\"]\n",
    "y_values = southern_hemisphere[\"Wind Speed\"]\n",
    "plot_linear_regression(x_values, y_values, \"Wind Speed\", (-20,30))\n",
    "\n",
    "plt.savefig(\"output_data/Southern Hemisphere - Wind Speed (mph) vs. Latitude Linear Regression.png\")"
   ]
  },
  {
   "cell_type": "code",
   "execution_count": null,
   "metadata": {},
   "outputs": [],
   "source": []
  }
 ],
 "metadata": {
  "anaconda-cloud": {},
  "kernel_info": {
   "name": "python3"
  },
  "kernelspec": {
   "display_name": "Python 3 (ipykernel)",
   "language": "python",
   "name": "python3"
  },
  "language_info": {
   "codemirror_mode": {
    "name": "ipython",
    "version": 3
   },
   "file_extension": ".py",
   "mimetype": "text/x-python",
   "name": "python",
   "nbconvert_exporter": "python",
   "pygments_lexer": "ipython3",
   "version": "3.9.12"
  },
  "latex_envs": {
   "LaTeX_envs_menu_present": true,
   "autoclose": false,
   "autocomplete": true,
   "bibliofile": "biblio.bib",
   "cite_by": "apalike",
   "current_citInitial": 1,
   "eqLabelWithNumbers": true,
   "eqNumInitial": 1,
   "hotkeys": {
    "equation": "Ctrl-E",
    "itemize": "Ctrl-I"
   },
   "labels_anchors": false,
   "latex_user_defs": false,
   "report_style_numbering": false,
   "user_envs_cfg": false
  },
  "nteract": {
   "version": "0.12.3"
  }
 },
 "nbformat": 4,
 "nbformat_minor": 2
}
